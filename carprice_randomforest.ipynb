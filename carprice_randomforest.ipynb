{
  "nbformat": 4,
  "nbformat_minor": 0,
  "metadata": {
    "colab": {
      "provenance": []
    },
    "kernelspec": {
      "name": "python3",
      "display_name": "Python 3"
    },
    "language_info": {
      "name": "python"
    }
  },
  "cells": [
    {
      "cell_type": "markdown",
      "source": [
        "# Previsão de Preços de Carros Usados\n",
        "\n",
        "Este projeto utiliza o dataset [Used Cars Price Prediction](https://www.kaggle.com/datasets/avikasliwal/used-cars-price-prediction), que contém informações detalhadas sobre veículos usados vendidos em diversas cidades da Índia. O conjunto de dados inclui variáveis como modelo, ano de fabricação, tipo de combustível, transmissão...\n",
        "\n",
        "O objetivo deste notebook é realizar:\n",
        "- Pré-processamento de variáveis categóricas e numéricas.\n",
        "- Modelagem preditiva para estimar o preço de revenda dos veículos.\n",
        "- Foco na aplicação do algoritmo Random Forest para regressão\n"
      ],
      "metadata": {
        "id": "0W8RI3ToaYAZ"
      }
    },
    {
      "cell_type": "markdown",
      "source": [
        "## Dependências e Dataset\n",
        "\n",
        "Baixando dataset do diretamente do Kaggle, extraindo e abrindo o conjunto de dados."
      ],
      "metadata": {
        "id": "dFXrFc01XXfK"
      }
    },
    {
      "cell_type": "code",
      "source": [
        "# Kaggle\n",
        "\n",
        "!pip install -q kaggle"
      ],
      "metadata": {
        "id": "0e0PjOIIXIlp"
      },
      "execution_count": 113,
      "outputs": []
    },
    {
      "cell_type": "code",
      "source": [
        "# Manipulação de Dados\n",
        "\n",
        "import pandas as pd\n",
        "import numpy as np\n",
        "import zipfile\n",
        "\n",
        "# Visualização\n",
        "\n",
        "import matplotlib.pyplot as plt\n",
        "import seaborn as sns\n",
        "\n",
        "# Métricas\n",
        "from sklearn.metrics import mean_squared_error, r2_score\n",
        "from scipy.stats import pearsonr\n",
        "\n",
        "# Scaler, RandomForest, SVM...\n",
        "from sklearn.preprocessing import StandardScaler\n",
        "from sklearn.ensemble import RandomForestRegressor\n",
        "from sklearn.impute import SimpleImputer\n",
        "from sklearn.model_selection import train_test_split\n",
        "\n",
        "\n",
        "# Google Colab para upload de arquivos locais\n",
        "from google.colab import files\n"
      ],
      "metadata": {
        "id": "CvK90h38SM00"
      },
      "execution_count": 114,
      "outputs": []
    },
    {
      "cell_type": "code",
      "execution_count": 115,
      "metadata": {
        "colab": {
          "base_uri": "https://localhost:8080/",
          "height": 91
        },
        "id": "Peoce2VZRqVx",
        "outputId": "c5188e1b-676a-4b4c-d4f1-731e7351493c"
      },
      "outputs": [
        {
          "output_type": "display_data",
          "data": {
            "text/plain": [
              "<IPython.core.display.HTML object>"
            ],
            "text/html": [
              "\n",
              "     <input type=\"file\" id=\"files-ff4582bb-0002-4c6d-a8fa-b023d3597fc5\" name=\"files[]\" multiple disabled\n",
              "        style=\"border:none\" />\n",
              "     <output id=\"result-ff4582bb-0002-4c6d-a8fa-b023d3597fc5\">\n",
              "      Upload widget is only available when the cell has been executed in the\n",
              "      current browser session. Please rerun this cell to enable.\n",
              "      </output>\n",
              "      <script>// Copyright 2017 Google LLC\n",
              "//\n",
              "// Licensed under the Apache License, Version 2.0 (the \"License\");\n",
              "// you may not use this file except in compliance with the License.\n",
              "// You may obtain a copy of the License at\n",
              "//\n",
              "//      http://www.apache.org/licenses/LICENSE-2.0\n",
              "//\n",
              "// Unless required by applicable law or agreed to in writing, software\n",
              "// distributed under the License is distributed on an \"AS IS\" BASIS,\n",
              "// WITHOUT WARRANTIES OR CONDITIONS OF ANY KIND, either express or implied.\n",
              "// See the License for the specific language governing permissions and\n",
              "// limitations under the License.\n",
              "\n",
              "/**\n",
              " * @fileoverview Helpers for google.colab Python module.\n",
              " */\n",
              "(function(scope) {\n",
              "function span(text, styleAttributes = {}) {\n",
              "  const element = document.createElement('span');\n",
              "  element.textContent = text;\n",
              "  for (const key of Object.keys(styleAttributes)) {\n",
              "    element.style[key] = styleAttributes[key];\n",
              "  }\n",
              "  return element;\n",
              "}\n",
              "\n",
              "// Max number of bytes which will be uploaded at a time.\n",
              "const MAX_PAYLOAD_SIZE = 100 * 1024;\n",
              "\n",
              "function _uploadFiles(inputId, outputId) {\n",
              "  const steps = uploadFilesStep(inputId, outputId);\n",
              "  const outputElement = document.getElementById(outputId);\n",
              "  // Cache steps on the outputElement to make it available for the next call\n",
              "  // to uploadFilesContinue from Python.\n",
              "  outputElement.steps = steps;\n",
              "\n",
              "  return _uploadFilesContinue(outputId);\n",
              "}\n",
              "\n",
              "// This is roughly an async generator (not supported in the browser yet),\n",
              "// where there are multiple asynchronous steps and the Python side is going\n",
              "// to poll for completion of each step.\n",
              "// This uses a Promise to block the python side on completion of each step,\n",
              "// then passes the result of the previous step as the input to the next step.\n",
              "function _uploadFilesContinue(outputId) {\n",
              "  const outputElement = document.getElementById(outputId);\n",
              "  const steps = outputElement.steps;\n",
              "\n",
              "  const next = steps.next(outputElement.lastPromiseValue);\n",
              "  return Promise.resolve(next.value.promise).then((value) => {\n",
              "    // Cache the last promise value to make it available to the next\n",
              "    // step of the generator.\n",
              "    outputElement.lastPromiseValue = value;\n",
              "    return next.value.response;\n",
              "  });\n",
              "}\n",
              "\n",
              "/**\n",
              " * Generator function which is called between each async step of the upload\n",
              " * process.\n",
              " * @param {string} inputId Element ID of the input file picker element.\n",
              " * @param {string} outputId Element ID of the output display.\n",
              " * @return {!Iterable<!Object>} Iterable of next steps.\n",
              " */\n",
              "function* uploadFilesStep(inputId, outputId) {\n",
              "  const inputElement = document.getElementById(inputId);\n",
              "  inputElement.disabled = false;\n",
              "\n",
              "  const outputElement = document.getElementById(outputId);\n",
              "  outputElement.innerHTML = '';\n",
              "\n",
              "  const pickedPromise = new Promise((resolve) => {\n",
              "    inputElement.addEventListener('change', (e) => {\n",
              "      resolve(e.target.files);\n",
              "    });\n",
              "  });\n",
              "\n",
              "  const cancel = document.createElement('button');\n",
              "  inputElement.parentElement.appendChild(cancel);\n",
              "  cancel.textContent = 'Cancel upload';\n",
              "  const cancelPromise = new Promise((resolve) => {\n",
              "    cancel.onclick = () => {\n",
              "      resolve(null);\n",
              "    };\n",
              "  });\n",
              "\n",
              "  // Wait for the user to pick the files.\n",
              "  const files = yield {\n",
              "    promise: Promise.race([pickedPromise, cancelPromise]),\n",
              "    response: {\n",
              "      action: 'starting',\n",
              "    }\n",
              "  };\n",
              "\n",
              "  cancel.remove();\n",
              "\n",
              "  // Disable the input element since further picks are not allowed.\n",
              "  inputElement.disabled = true;\n",
              "\n",
              "  if (!files) {\n",
              "    return {\n",
              "      response: {\n",
              "        action: 'complete',\n",
              "      }\n",
              "    };\n",
              "  }\n",
              "\n",
              "  for (const file of files) {\n",
              "    const li = document.createElement('li');\n",
              "    li.append(span(file.name, {fontWeight: 'bold'}));\n",
              "    li.append(span(\n",
              "        `(${file.type || 'n/a'}) - ${file.size} bytes, ` +\n",
              "        `last modified: ${\n",
              "            file.lastModifiedDate ? file.lastModifiedDate.toLocaleDateString() :\n",
              "                                    'n/a'} - `));\n",
              "    const percent = span('0% done');\n",
              "    li.appendChild(percent);\n",
              "\n",
              "    outputElement.appendChild(li);\n",
              "\n",
              "    const fileDataPromise = new Promise((resolve) => {\n",
              "      const reader = new FileReader();\n",
              "      reader.onload = (e) => {\n",
              "        resolve(e.target.result);\n",
              "      };\n",
              "      reader.readAsArrayBuffer(file);\n",
              "    });\n",
              "    // Wait for the data to be ready.\n",
              "    let fileData = yield {\n",
              "      promise: fileDataPromise,\n",
              "      response: {\n",
              "        action: 'continue',\n",
              "      }\n",
              "    };\n",
              "\n",
              "    // Use a chunked sending to avoid message size limits. See b/62115660.\n",
              "    let position = 0;\n",
              "    do {\n",
              "      const length = Math.min(fileData.byteLength - position, MAX_PAYLOAD_SIZE);\n",
              "      const chunk = new Uint8Array(fileData, position, length);\n",
              "      position += length;\n",
              "\n",
              "      const base64 = btoa(String.fromCharCode.apply(null, chunk));\n",
              "      yield {\n",
              "        response: {\n",
              "          action: 'append',\n",
              "          file: file.name,\n",
              "          data: base64,\n",
              "        },\n",
              "      };\n",
              "\n",
              "      let percentDone = fileData.byteLength === 0 ?\n",
              "          100 :\n",
              "          Math.round((position / fileData.byteLength) * 100);\n",
              "      percent.textContent = `${percentDone}% done`;\n",
              "\n",
              "    } while (position < fileData.byteLength);\n",
              "  }\n",
              "\n",
              "  // All done.\n",
              "  yield {\n",
              "    response: {\n",
              "      action: 'complete',\n",
              "    }\n",
              "  };\n",
              "}\n",
              "\n",
              "scope.google = scope.google || {};\n",
              "scope.google.colab = scope.google.colab || {};\n",
              "scope.google.colab._files = {\n",
              "  _uploadFiles,\n",
              "  _uploadFilesContinue,\n",
              "};\n",
              "})(self);\n",
              "</script> "
            ]
          },
          "metadata": {}
        },
        {
          "output_type": "stream",
          "name": "stdout",
          "text": [
            "Saving kaggle.json to kaggle (2).json\n"
          ]
        },
        {
          "output_type": "execute_result",
          "data": {
            "text/plain": [
              "{'kaggle (2).json': b'{\"username\":\"patrickregis\",\"key\":\"103d38076a1d4bb72439b211012992e0\"}'}"
            ]
          },
          "metadata": {},
          "execution_count": 115
        }
      ],
      "source": [
        "files.upload() # Kaggle JSON"
      ]
    },
    {
      "cell_type": "code",
      "source": [
        "!mkdir -p ~/.kaggle\n",
        "!cp kaggle.json ~/.kaggle/\n",
        "!chmod 600 ~/.kaggle/kaggle.json"
      ],
      "metadata": {
        "id": "UjAz_R9KXSLF"
      },
      "execution_count": 116,
      "outputs": []
    },
    {
      "cell_type": "code",
      "source": [
        "!kaggle datasets download -d avikasliwal/used-cars-price-prediction"
      ],
      "metadata": {
        "colab": {
          "base_uri": "https://localhost:8080/"
        },
        "id": "Ni34QYD6XSou",
        "outputId": "ade6d8ee-0509-43a8-e59d-aa1555bf35ed"
      },
      "execution_count": 117,
      "outputs": [
        {
          "output_type": "stream",
          "name": "stdout",
          "text": [
            "Dataset URL: https://www.kaggle.com/datasets/avikasliwal/used-cars-price-prediction\n",
            "License(s): other\n",
            "used-cars-price-prediction.zip: Skipping, found more recently modified local copy (use --force to force download)\n"
          ]
        }
      ]
    },
    {
      "cell_type": "code",
      "source": [
        "with zipfile.ZipFile(\"used-cars-price-prediction.zip\", \"r\") as zip_ref:\n",
        "    zip_ref.extractall(\"dados\")"
      ],
      "metadata": {
        "id": "iiw6ZylkSeuK"
      },
      "execution_count": 118,
      "outputs": []
    },
    {
      "cell_type": "code",
      "source": [
        "# Carregando Dataset\n",
        "\n",
        "df_train = pd.read_csv('dados/train-data.csv')\n",
        "# df_test = pd.read_csv('dados/test-data.csv') -> Arquivo não tem target, dataset para competição. Usaremos somente o conjunto de treino"
      ],
      "metadata": {
        "id": "Mr7v_GwLbpCN"
      },
      "execution_count": 135,
      "outputs": []
    },
    {
      "cell_type": "markdown",
      "source": [
        "## Explorando o Dataset"
      ],
      "metadata": {
        "id": "ymxucvgLb5Du"
      }
    },
    {
      "cell_type": "code",
      "source": [
        "# Valores Únicos\n",
        "\n",
        "print(df_train.nunique())"
      ],
      "metadata": {
        "colab": {
          "base_uri": "https://localhost:8080/"
        },
        "id": "6U3Ap9RGTvSe",
        "outputId": "d44b13fc-1a51-4178-9380-38aa6787a215"
      },
      "execution_count": 136,
      "outputs": [
        {
          "output_type": "stream",
          "name": "stdout",
          "text": [
            "Unnamed: 0           6019\n",
            "Name                 1876\n",
            "Location               11\n",
            "Year                   22\n",
            "Kilometers_Driven    3093\n",
            "Fuel_Type               5\n",
            "Transmission            2\n",
            "Owner_Type              4\n",
            "Mileage               442\n",
            "Engine                146\n",
            "Power                 372\n",
            "Seats                   9\n",
            "New_Price             540\n",
            "Price                1373\n",
            "dtype: int64\n"
          ]
        }
      ]
    },
    {
      "cell_type": "code",
      "source": [
        "# Excluindo colunas desnecessárias\n",
        "\n",
        "df_train.drop(['New_Price', 'Unnamed: 0', 'Name'], axis = 1, inplace = True)"
      ],
      "metadata": {
        "id": "aPc3MdZxTMTe"
      },
      "execution_count": 137,
      "outputs": []
    },
    {
      "cell_type": "code",
      "source": [
        "# Removendo valores nulos\n",
        "\n",
        "df_train.dropna(inplace=True,axis=0)"
      ],
      "metadata": {
        "id": "mzZZ69j9WJN-"
      },
      "execution_count": 138,
      "outputs": []
    },
    {
      "cell_type": "code",
      "source": [
        "# Separando as features do target\n",
        "\n",
        "y = df_train['Price']\n",
        "X = df_train.drop('Price', axis=1)"
      ],
      "metadata": {
        "id": "7erwHK1aTYDw"
      },
      "execution_count": 139,
      "outputs": []
    },
    {
      "cell_type": "markdown",
      "source": [
        "# Tratando Formatações Problematicas"
      ],
      "metadata": {
        "id": "8z_Z2YfcXpem"
      }
    },
    {
      "cell_type": "code",
      "source": [
        "# As seguintes colunas estão em formato string. Milage tem duas possíveis métricas (kmpç e km/kg), necessário conversão.\n",
        "\n",
        "columns = ['Mileage', 'Engine', 'Power']\n",
        "\n",
        "for col in columns:\n",
        "    print(f\"Column: {col}\")\n",
        "    endings = set() # for uniques\n",
        "\n",
        "    for i in X[col]:\n",
        "        if isinstance(i, str):\n",
        "            ending = i.split()[-1]\n",
        "            endings.add(ending)\n",
        "\n",
        "    print(f\"Terminações encontradas: {endings}\\n\")"
      ],
      "metadata": {
        "colab": {
          "base_uri": "https://localhost:8080/"
        },
        "id": "aDrAHngLWiSR",
        "outputId": "e58329b4-8d85-4844-f7ea-3d57a1e20a73"
      },
      "execution_count": 140,
      "outputs": [
        {
          "output_type": "stream",
          "name": "stdout",
          "text": [
            "Column: Mileage\n",
            "Terminações encontradas: {'kmpl', 'km/kg'}\n",
            "\n",
            "Column: Engine\n",
            "Terminações encontradas: {'CC'}\n",
            "\n",
            "Column: Power\n",
            "Terminações encontradas: {'bhp'}\n",
            "\n"
          ]
        }
      ]
    },
    {
      "cell_type": "code",
      "source": [
        "# Convertendo km/kg para kmpl\n",
        "\n",
        "New_Mileage= []\n",
        "\n",
        "for i in X['Mileage']:\n",
        "    if str(i).endswith('km/kg'):\n",
        "        i = i[:-6]\n",
        "        i = float(i)*1.40\n",
        "        New_Mileage.append(float(i))\n",
        "    elif str(i).endswith('kmpl'):\n",
        "        i = i[:-6]\n",
        "        New_Mileage.append(float(i))"
      ],
      "metadata": {
        "id": "NXpxWCnXW7Bl"
      },
      "execution_count": 141,
      "outputs": []
    },
    {
      "cell_type": "code",
      "source": [
        "X['Mileage']= New_Mileage\n",
        "\n",
        "# Métricas finais: Mileage (kmpl), engine (CC), power (bhp)"
      ],
      "metadata": {
        "id": "QSIlXWPmXhUE"
      },
      "execution_count": 142,
      "outputs": []
    },
    {
      "cell_type": "code",
      "source": [
        "# Formatar Engine e Power, remover texto.\n",
        "\n",
        "X['Engine'] = X['Engine'].str.extract('(\\d+\\.\\d+|\\d+)').astype(float)\n",
        "X['Power'] = X['Power'].str.extract('(\\d+\\.\\d+|\\d+)').astype(float)"
      ],
      "metadata": {
        "id": "xBpp9b-eVoBP"
      },
      "execution_count": 143,
      "outputs": []
    },
    {
      "cell_type": "code",
      "source": [
        "# Renomear colunas com texto indicando a métrica usada.\n",
        "\n",
        "rename = ['Mileage (kmpl)', 'Engine (CC)', 'Power (bhp)']\n",
        "rename_dict = dict(zip(columns, rename))\n",
        "X.rename(columns=rename_dict, inplace=True)"
      ],
      "metadata": {
        "id": "8nCYq_gxVuVa"
      },
      "execution_count": 144,
      "outputs": []
    },
    {
      "cell_type": "code",
      "source": [
        "# Confirmando as alterações.\n",
        "\n",
        "#X.head(3)"
      ],
      "metadata": {
        "id": "bi4jvqIjZ11P"
      },
      "execution_count": 145,
      "outputs": []
    },
    {
      "cell_type": "code",
      "source": [
        "# Valores nulos para Power\n",
        "\n",
        "print(X.isnull().sum())"
      ],
      "metadata": {
        "colab": {
          "base_uri": "https://localhost:8080/"
        },
        "id": "4qnRViuldh3l",
        "outputId": "188f22c6-88d7-4078-835e-72d50c180b69"
      },
      "execution_count": 146,
      "outputs": [
        {
          "output_type": "stream",
          "name": "stdout",
          "text": [
            "Location               0\n",
            "Year                   0\n",
            "Kilometers_Driven      0\n",
            "Fuel_Type              0\n",
            "Transmission           0\n",
            "Owner_Type             0\n",
            "Mileage (kmpl)         0\n",
            "Engine (CC)            0\n",
            "Power (bhp)          103\n",
            "Seats                  0\n",
            "dtype: int64\n"
          ]
        }
      ]
    },
    {
      "cell_type": "code",
      "source": [
        "# Imputando a média em valores nulos\n",
        "\n",
        "imputer = SimpleImputer(strategy='mean')\n",
        "\n",
        "# Imputar somente na coluna \"Power\"\n",
        "\n",
        "X[['Power (bhp)']] = imputer.fit_transform(X[['Power (bhp)']])"
      ],
      "metadata": {
        "id": "AaUdcQfmbpwh"
      },
      "execution_count": 147,
      "outputs": []
    },
    {
      "cell_type": "code",
      "source": [
        "# Dividir em treino e validação\n",
        "X_train, X_val, y_train, y_val = train_test_split(X, y, test_size=0.2, random_state=31)"
      ],
      "metadata": {
        "id": "UhMgNsGgg3O4"
      },
      "execution_count": 148,
      "outputs": []
    },
    {
      "cell_type": "markdown",
      "source": [
        "# Aplicando Dummies e Normalizando os Dados"
      ],
      "metadata": {
        "id": "BDmSYEt2aCOS"
      }
    },
    {
      "cell_type": "code",
      "source": [
        "# Dummies para variáveis categóricas\n",
        "\n",
        "X_train = pd.get_dummies(X_train, drop_first=True)\n",
        "X_val = pd.get_dummies(X_val, drop_first=True)"
      ],
      "metadata": {
        "id": "czqEtJRPaH8U"
      },
      "execution_count": 149,
      "outputs": []
    },
    {
      "cell_type": "code",
      "source": [
        "# Normalizando os Dados\n",
        "\n",
        "scaler = StandardScaler()\n",
        "X_train_scaled = scaler.fit_transform(X_train)\n",
        "X_val_scaled = scaler.transform(X_val)"
      ],
      "metadata": {
        "id": "owM1M1HuazlM"
      },
      "execution_count": 154,
      "outputs": []
    },
    {
      "cell_type": "markdown",
      "source": [
        "# Random Forest Regressor"
      ],
      "metadata": {
        "id": "HXvaav8-h4-R"
      }
    },
    {
      "cell_type": "code",
      "source": [
        "# 1. Treinamento com treino escalonado\n",
        "rf_reg = RandomForestRegressor(random_state=42)\n",
        "rf_reg.fit(X_train_scaled, y_train)\n",
        "\n",
        "# 2. Previsões\n",
        "y_train_pred = rf_reg.predict(X_train_scaled)\n",
        "y_test_pred = rf_reg.predict(X_val_scaled)\n",
        "\n",
        "# 3. Avaliação com R²\n",
        "print(\"R² no treino:\", rf_reg.score(X_train_scaled, y_train))\n",
        "print(\"R² no teste:\", rf_reg.score(X_val_scaled, y_val))"
      ],
      "metadata": {
        "colab": {
          "base_uri": "https://localhost:8080/"
        },
        "id": "o4XQGsTvdRIf",
        "outputId": "65ddee3b-227a-4fa9-c6b8-570edb25b6e6"
      },
      "execution_count": 158,
      "outputs": [
        {
          "output_type": "stream",
          "name": "stdout",
          "text": [
            "R² no treino: 0.983127487790837\n",
            "R² no teste: 0.9059782718105918\n"
          ]
        }
      ]
    },
    {
      "cell_type": "code",
      "source": [
        "import matplotlib.pyplot as plt\n",
        "\n",
        "import numpy as np\n",
        "\n",
        "# Gerar predições no conjunto de validação\n",
        "y_pred = rf_reg.predict(X_val_scaled)\n",
        "\n",
        "# Métricas\n",
        "mse = mean_squared_error(y_val, y_pred)\n",
        "rmse = np.sqrt(mse)\n",
        "r2 = r2_score(y_val, y_pred)\n",
        "corr, _ = pearsonr(y_val, y_pred)  # Correlação de Pearson\n",
        "\n",
        "print(f\"MSE: {mse:.2f}\")\n",
        "print(f\"RMSE: {rmse:.2f}\")\n",
        "print(f\"R²: {r2:.2f}\")\n",
        "print(f\"Correlação (Pearson): {corr:.2f}\")\n",
        "\n",
        "# Visualização: valores reais x predições\n",
        "plt.figure(figsize=(8,6))\n",
        "plt.scatter(y_val, y_pred, alpha=0.6, color='dodgerblue', edgecolor='k', label='Predições')\n",
        "\n",
        "# Linha y=x\n",
        "plt.plot([y_val.min(), y_val.max()], [y_val.min(), y_val.max()], 'r--', lw=2, label='Ideal (y = x)')\n",
        "\n",
        "# Linha de tendência linear ajustada\n",
        "z = np.polyfit(y_val, y_pred, 1)\n",
        "p = np.poly1d(z)\n",
        "plt.plot(sorted(y_val), p(sorted(y_val)), \"g-\", lw=2, label='Tendência ajustada')\n",
        "\n",
        "plt.xlabel('Valores Reais')\n",
        "plt.ylabel('Predições do Modelo')\n",
        "plt.title('Random Forest: Valores Reais vs Predições')\n",
        "plt.legend()\n",
        "plt.grid(True)\n",
        "plt.tight_layout()\n",
        "plt.show()"
      ],
      "metadata": {
        "id": "Vi6mgYcsfxZm",
        "outputId": "3faef042-5b24-4736-e7f0-1de8ab36e0da",
        "colab": {
          "base_uri": "https://localhost:8080/",
          "height": 676
        }
      },
      "execution_count": 164,
      "outputs": [
        {
          "output_type": "stream",
          "name": "stdout",
          "text": [
            "MSE: 11.39\n",
            "RMSE: 3.37\n",
            "R²: 0.91\n",
            "Correlação (Pearson): 0.95\n"
          ]
        },
        {
          "output_type": "display_data",
          "data": {
            "text/plain": [
              "<Figure size 800x600 with 1 Axes>"
            ],
            "image/png": "[encoded data removed]"
          },
          "metadata": {}
        }
      ]
    }
  ]
}